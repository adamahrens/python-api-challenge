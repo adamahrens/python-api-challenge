{
 "cells": [
  {
   "cell_type": "code",
   "execution_count": 1,
   "metadata": {},
   "outputs": [
    {
     "name": "stdout",
     "output_type": "stream",
     "text": [
      "1cc89202e555079b554803092d2bff0b\n"
     ]
    }
   ],
   "source": [
    "# Dependencies and Setup\n",
    "import matplotlib.pyplot as plt\n",
    "import pandas as pd\n",
    "import numpy as np\n",
    "import requests\n",
    "import time\n",
    "import json\n",
    "import csv\n",
    "\n",
    "# Import API key\n",
    "from keys import api_key\n",
    "\n",
    "# Incorporated citipy to determine city based on latitude and longitude\n",
    "from citipy import citipy\n",
    "\n",
    "# Output File (CSV)\n",
    "output_data_file = \"output_data/cities.csv\"\n",
    "\n",
    "# Range of latitudes and longitudes\n",
    "lat_range = (-90, 90)\n",
    "lng_range = (-180, 180)\n",
    "print(api_key)"
   ]
  },
  {
   "cell_type": "code",
   "execution_count": 2,
   "metadata": {},
   "outputs": [
    {
     "data": {
      "text/plain": [
       "611"
      ]
     },
     "execution_count": 2,
     "metadata": {},
     "output_type": "execute_result"
    }
   ],
   "source": [
    " # List for holding lat_lngs and cities\n",
    "lat_lngs = []\n",
    "cities = []\n",
    "\n",
    "# Create a set of random lat and lng combinations\n",
    "lats = np.random.uniform(low=-90.000, high=90.000, size=1500)\n",
    "lngs = np.random.uniform(low=-180.000, high=180.000, size=1500)\n",
    "lat_lngs = list(zip(lats, lngs))\n",
    "\n",
    "# Identify nearest city for each lat, lng combination\n",
    "for lat_lng in lat_lngs:\n",
    "    city = citipy.nearest_city(lat_lng[0], lat_lng[1]).city_name\n",
    "    \n",
    "    # If the city is unique, then add it to a our cities list\n",
    "    if city not in cities:\n",
    "        cities.append(city)\n",
    "\n",
    "# Print the city count to confirm sufficient count\n",
    "len(cities)"
   ]
  },
  {
   "cell_type": "code",
   "execution_count": 3,
   "metadata": {},
   "outputs": [
    {
     "name": "stdout",
     "output_type": "stream",
     "text": [
      "Beginning Data Retrieval\n",
      "-----------------------------\n",
      "Processing Record 0 | bontang at 1.6302329767003556, 116.58658160641232\n",
      "Processing Record 1 | hermanus at -60.71063501609389, 3.6750936284595923\n",
      "Processing Record 2 | dharan at 27.022617834922656, 86.85602434875199\n",
      "Processing Record 3 | zavodoukovsk at 56.455691392865305, 66.3846181445752\n",
      "Processing Record 4 | butaritari at 9.623533983707901, 179.08283149667506\n",
      "Processing Record 5 | yellowknife at 79.37088758900026, -101.9863777549573\n",
      "Processing Record 6 | hilo at 4.559190021547181, -164.3890424508255\n",
      "Processing Record 7 | ahipara at -32.67290839382413, 170.06151616495987\n",
      "Processing Record 8 | kanniyakumari at 7.333827386233324, 78.2810997034814\n",
      "Processing Record 9 | djibo at 14.781864312738108, -1.6657223649783646\n",
      "-----------------------------\n",
      "Data Retrieval Complete\n",
      "-----------------------------\n"
     ]
    }
   ],
   "source": [
    "smaller = cities[0:10]\n",
    "weather_results = []\n",
    "\n",
    "print('Beginning Data Retrieval')     \n",
    "print('-----------------------------')\n",
    "for i in range(0, 10):\n",
    "    lat_long = lat_lngs[i]\n",
    "    lat = lat_long[0]\n",
    "    long = lat_long[1]\n",
    "    city = cities[i]\n",
    "    print(f'Processing Record {i} | {city} at {lat}, {long}')\n",
    "    time.sleep(2)\n",
    "    response = requests.get(f'http://api.openweathermap.org/data/2.5/weather?units=imperial&lat={lat}&lon={long}&APPID={api_key}')\n",
    "    if response.status_code == 200:\n",
    "        json = response.json()\n",
    "        temp_max = json['main']['temp_max']\n",
    "        humidity = json['main']['humidity']\n",
    "        wind_speed = json['wind']['speed']\n",
    "        cloudiness = json['clouds']['all']\n",
    "        latitude = json['coord']['lat']\n",
    "        longitude = json['coord']['lon']\n",
    "        country = json['sys'].get('country', 'N/A')\n",
    "        dt = json['dt']\n",
    "        weather_results.append({ 'city': city, 'cloudiness': cloudiness, 'country': country, 'date': dt, 'humidity': humidity, 'lat': latitude, 'lng': longitude, 'max_temp': temp_max, 'max_speed': wind_speed})\n",
    "    else:\n",
    "        print('City not found. Skipping...')\n",
    "\n",
    "print('-----------------------------')\n",
    "print('Data Retrieval Complete')     \n",
    "print('-----------------------------')\n",
    "                            "
   ]
  },
  {
   "cell_type": "code",
   "execution_count": 4,
   "metadata": {},
   "outputs": [],
   "source": [
    "with open(output_data_file, 'w', newline='') as csvfile:\n",
    "    csvwriter = csv.writer(csvfile, delimiter=',')\n",
    "\n",
    "    # Write the first row (column headers)\n",
    "    csvwriter.writerow(['City', 'Cloudiness', 'Country', 'Date', 'Humidity', 'Lat', 'Lng', 'Max Temp', 'Wind Speed'])\n",
    "\n",
    "    # Write the second row\n",
    "    for weather_dictionary in weather_results:\n",
    "        csvwriter.writerow([weather_dictionary['city'], weather_dictionary['cloudiness'], weather_dictionary['country'], weather_dictionary['date'], weather_dictionary['humidity'], weather_dictionary['lat'], weather_dictionary['lng'], weather_dictionary['max_temp'], weather_dictionary['max_speed']])\n"
   ]
  },
  {
   "cell_type": "code",
   "execution_count": 5,
   "metadata": {},
   "outputs": [
    {
     "data": {
      "text/html": [
       "<div>\n",
       "<style scoped>\n",
       "    .dataframe tbody tr th:only-of-type {\n",
       "        vertical-align: middle;\n",
       "    }\n",
       "\n",
       "    .dataframe tbody tr th {\n",
       "        vertical-align: top;\n",
       "    }\n",
       "\n",
       "    .dataframe thead th {\n",
       "        text-align: right;\n",
       "    }\n",
       "</style>\n",
       "<table border=\"1\" class=\"dataframe\">\n",
       "  <thead>\n",
       "    <tr style=\"text-align: right;\">\n",
       "      <th></th>\n",
       "      <th>city</th>\n",
       "      <th>cloudiness</th>\n",
       "      <th>country</th>\n",
       "      <th>date</th>\n",
       "      <th>humidity</th>\n",
       "      <th>lat</th>\n",
       "      <th>lng</th>\n",
       "      <th>max_speed</th>\n",
       "      <th>max_temp</th>\n",
       "    </tr>\n",
       "  </thead>\n",
       "  <tbody>\n",
       "    <tr>\n",
       "      <th>0</th>\n",
       "      <td>bontang</td>\n",
       "      <td>100</td>\n",
       "      <td>ID</td>\n",
       "      <td>1570481011</td>\n",
       "      <td>95</td>\n",
       "      <td>1.63</td>\n",
       "      <td>116.59</td>\n",
       "      <td>2.98</td>\n",
       "      <td>65.59</td>\n",
       "    </tr>\n",
       "    <tr>\n",
       "      <th>1</th>\n",
       "      <td>hermanus</td>\n",
       "      <td>100</td>\n",
       "      <td>N/A</td>\n",
       "      <td>1570481013</td>\n",
       "      <td>93</td>\n",
       "      <td>-60.72</td>\n",
       "      <td>3.68</td>\n",
       "      <td>29.51</td>\n",
       "      <td>17.58</td>\n",
       "    </tr>\n",
       "    <tr>\n",
       "      <th>2</th>\n",
       "      <td>dharan</td>\n",
       "      <td>0</td>\n",
       "      <td>NP</td>\n",
       "      <td>1570481015</td>\n",
       "      <td>90</td>\n",
       "      <td>27.02</td>\n",
       "      <td>86.86</td>\n",
       "      <td>3.69</td>\n",
       "      <td>67.14</td>\n",
       "    </tr>\n",
       "    <tr>\n",
       "      <th>3</th>\n",
       "      <td>zavodoukovsk</td>\n",
       "      <td>0</td>\n",
       "      <td>RU</td>\n",
       "      <td>1570481018</td>\n",
       "      <td>86</td>\n",
       "      <td>56.46</td>\n",
       "      <td>66.38</td>\n",
       "      <td>4.79</td>\n",
       "      <td>47.84</td>\n",
       "    </tr>\n",
       "    <tr>\n",
       "      <th>4</th>\n",
       "      <td>butaritari</td>\n",
       "      <td>100</td>\n",
       "      <td>N/A</td>\n",
       "      <td>1570481020</td>\n",
       "      <td>69</td>\n",
       "      <td>9.62</td>\n",
       "      <td>179.08</td>\n",
       "      <td>4.07</td>\n",
       "      <td>84.44</td>\n",
       "    </tr>\n",
       "  </tbody>\n",
       "</table>\n",
       "</div>"
      ],
      "text/plain": [
       "           city  cloudiness country        date  humidity    lat     lng  \\\n",
       "0       bontang         100      ID  1570481011        95   1.63  116.59   \n",
       "1      hermanus         100     N/A  1570481013        93 -60.72    3.68   \n",
       "2        dharan           0      NP  1570481015        90  27.02   86.86   \n",
       "3  zavodoukovsk           0      RU  1570481018        86  56.46   66.38   \n",
       "4    butaritari         100     N/A  1570481020        69   9.62  179.08   \n",
       "\n",
       "   max_speed  max_temp  \n",
       "0       2.98     65.59  \n",
       "1      29.51     17.58  \n",
       "2       3.69     67.14  \n",
       "3       4.79     47.84  \n",
       "4       4.07     84.44  "
      ]
     },
     "execution_count": 5,
     "metadata": {},
     "output_type": "execute_result"
    }
   ],
   "source": [
    "weather_df = pd.DataFrame(weather_results)\n",
    "weather_df.head()"
   ]
  },
  {
   "cell_type": "code",
   "execution_count": 6,
   "metadata": {},
   "outputs": [
    {
     "data": {
      "image/png": "[encoded data removed]",
      "text/plain": [
       "<Figure size 864x432 with 1 Axes>"
      ]
     },
     "metadata": {
      "needs_background": "light"
     },
     "output_type": "display_data"
    }
   ],
   "source": [
    "# Latitude vs. Temperature Plot\n",
    "lat_temp = weather_df.copy()[['lat', 'max_temp']]\n",
    "plt.figure(figsize=(12, 6))\n",
    "plt.scatter(lat_temp['lat'], lat_temp['max_temp'], marker=\"o\", facecolors=\"blue\", edgecolors=\"black\")\n",
    "plt.title('City Latitude vs Max Temperature 10/07/2019')\n",
    "plt.xlabel('Latitude')\n",
    "plt.ylabel('Max Temperature (F)')\n",
    "plt.savefig(\"../WeatherPy/City-Latitude-vs-Max-Temperature.png\")\n",
    "plt.show()"
   ]
  },
  {
   "cell_type": "code",
   "execution_count": 7,
   "metadata": {},
   "outputs": [
    {
     "data": {
      "image/png": "[encoded data removed]",
      "text/plain": [
       "<Figure size 864x432 with 1 Axes>"
      ]
     },
     "metadata": {
      "needs_background": "light"
     },
     "output_type": "display_data"
    }
   ],
   "source": [
    "# Latitude vs. Humidity Plot\n",
    "lat_humidity = weather_df.copy()[['lat', 'humidity']]\n",
    "plt.figure(figsize=(12, 6))\n",
    "plt.scatter(lat_humidity['lat'], lat_humidity['humidity'], marker=\"o\", facecolors=\"blue\", edgecolors=\"black\")\n",
    "plt.title('City Latitude vs Humidity 10/07/2019')\n",
    "plt.xlabel('Latitude')\n",
    "plt.ylabel('Humidity (%)')\n",
    "plt.savefig(\"../WeatherPy/City-Latitude-vs-Humidity.png\")\n",
    "plt.show()"
   ]
  },
  {
   "cell_type": "code",
   "execution_count": 8,
   "metadata": {},
   "outputs": [
    {
     "data": {
      "image/png": "[encoded data removed]",
      "text/plain": [
       "<Figure size 864x432 with 1 Axes>"
      ]
     },
     "metadata": {
      "needs_background": "light"
     },
     "output_type": "display_data"
    }
   ],
   "source": [
    "# Latitude vs. Humidity Plot\n",
    "lat_cloudiness = weather_df.copy()[['lat', 'cloudiness']]\n",
    "plt.figure(figsize=(12, 6))\n",
    "plt.scatter(lat_cloudiness['lat'], lat_cloudiness['cloudiness'], marker=\"o\", facecolors=\"blue\", edgecolors=\"black\")\n",
    "plt.title('City Latitude vs Cloudiness 10/07/2019')\n",
    "plt.xlabel('Latitude')\n",
    "plt.ylabel('Cloudiness (%)')\n",
    "plt.savefig(\"../WeatherPy/City-Latitude-vs-Cloudiness.png\")\n",
    "plt.show()"
   ]
  },
  {
   "cell_type": "code",
   "execution_count": 9,
   "metadata": {},
   "outputs": [
    {
     "data": {
      "image/png": "[encoded data removed]",
      "text/plain": [
       "<Figure size 864x432 with 1 Axes>"
      ]
     },
     "metadata": {
      "needs_background": "light"
     },
     "output_type": "display_data"
    }
   ],
   "source": [
    "# Latitude vs. Windspeed Plot\n",
    "lat_wind_speed = weather_df.copy()[['lat', 'max_speed']]\n",
    "plt.figure(figsize=(12, 6))\n",
    "plt.scatter(lat_wind_speed['lat'], lat_wind_speed['max_speed'], marker=\"o\", facecolors=\"blue\", edgecolors=\"black\")\n",
    "plt.title('City Latitude vs Wind Speed 10/07/2019')\n",
    "plt.xlabel('Latitude')\n",
    "plt.ylabel('Wind Speed (mph)')\n",
    "plt.savefig(\"../WeatherPy/City-Latitude-vs-Wind-Speed.png\")\n",
    "plt.show()"
   ]
  },
  {
   "cell_type": "code",
   "execution_count": null,
   "metadata": {},
   "outputs": [],
   "source": []
  }
 ],
 "metadata": {
  "kernelspec": {
   "display_name": "Python 3",
   "language": "python",
   "name": "python3"
  },
  "language_info": {
   "codemirror_mode": {
    "name": "ipython",
    "version": 3
   },
   "file_extension": ".py",
   "mimetype": "text/x-python",
   "name": "python",
   "nbconvert_exporter": "python",
   "pygments_lexer": "ipython3",
   "version": "3.7.1"
  }
 },
 "nbformat": 4,
 "nbformat_minor": 2
}
