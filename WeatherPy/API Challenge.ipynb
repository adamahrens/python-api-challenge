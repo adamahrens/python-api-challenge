{
 "cells": [
  {
   "cell_type": "code",
   "execution_count": 1,
   "metadata": {},
   "outputs": [
    {
     "name": "stdout",
     "output_type": "stream",
     "text": [
      "1cc89202e555079b554803092d2bff0b\n"
     ]
    }
   ],
   "source": [
    "# Dependencies and Setup\n",
    "import matplotlib.pyplot as plt\n",
    "import pandas as pd\n",
    "import numpy as np\n",
    "import requests\n",
    "import time\n",
    "import json\n",
    "import csv\n",
    "\n",
    "# Import API key\n",
    "from keys import api_key\n",
    "\n",
    "# Incorporated citipy to determine city based on latitude and longitude\n",
    "from citipy import citipy\n",
    "\n",
    "# Output File (CSV)\n",
    "output_data_file = \"output_data/cities.csv\"\n",
    "\n",
    "# Range of latitudes and longitudes\n",
    "lat_range = (-90, 90)\n",
    "lng_range = (-180, 180)\n",
    "print(api_key)"
   ]
  },
  {
   "cell_type": "code",
   "execution_count": 2,
   "metadata": {},
   "outputs": [
    {
     "data": {
      "text/plain": [
       "614"
      ]
     },
     "execution_count": 2,
     "metadata": {},
     "output_type": "execute_result"
    }
   ],
   "source": [
    " # List for holding lat_lngs and cities\n",
    "lat_lngs = []\n",
    "cities = []\n",
    "\n",
    "# Create a set of random lat and lng combinations\n",
    "lats = np.random.uniform(low=-90.000, high=90.000, size=1500)\n",
    "lngs = np.random.uniform(low=-180.000, high=180.000, size=1500)\n",
    "lat_lngs = list(zip(lats, lngs))\n",
    "\n",
    "# Identify nearest city for each lat, lng combination\n",
    "for lat_lng in lat_lngs:\n",
    "    city = citipy.nearest_city(lat_lng[0], lat_lng[1]).city_name\n",
    "    \n",
    "    # If the city is unique, then add it to a our cities list\n",
    "    if city not in cities:\n",
    "        cities.append(city)\n",
    "\n",
    "# Print the city count to confirm sufficient count\n",
    "len(cities)"
   ]
  },
  {
   "cell_type": "code",
   "execution_count": 3,
   "metadata": {},
   "outputs": [
    {
     "name": "stdout",
     "output_type": "stream",
     "text": [
      "Beginning Data Retrieval\n",
      "-----------------------------\n",
      "Processing Record 0 | tumannyy at 78.31059023002894, 36.84782230515316\n",
      "Processing Record 1 | tasiilaq at 76.50222831678849, -38.79785002606539\n",
      "Processing Record 2 | dovers at 12.787354704422413, -60.66408859646718\n",
      "Processing Record 3 | leningradskiy at 68.13723757040566, 175.6318688065457\n",
      "Processing Record 4 | ushuaia at -74.8857936462972, -60.33798200961394\n",
      "Processing Record 5 | port alfred at -68.75236896805164, 38.2464540624741\n",
      "Processing Record 6 | hilo at 14.796788689897014, -149.98635160597746\n",
      "Processing Record 7 | chokurdakh at 88.13383232190318, 152.30637580512422\n",
      "Processing Record 8 | cerfontaine at 50.12746414728329, 4.468308934333521\n",
      "Processing Record 9 | margate at -37.92897258482259, 38.753395543236394\n",
      "-----------------------------\n",
      "Data Retrieval Complete\n",
      "-----------------------------\n"
     ]
    }
   ],
   "source": [
    "smaller = cities[0:10]\n",
    "weather_results = []\n",
    "\n",
    "print('Beginning Data Retrieval')     \n",
    "print('-----------------------------')\n",
    "for i in range(0, 10):\n",
    "    lat_long = lat_lngs[i]\n",
    "    lat = lat_long[0]\n",
    "    long = lat_long[1]\n",
    "    city = cities[i]\n",
    "    print(f'Processing Record {i} | {city} at {lat}, {long}')\n",
    "    time.sleep(2)\n",
    "    response = requests.get(f'http://api.openweathermap.org/data/2.5/weather?units=imperial&lat={lat}&lon={long}&APPID={api_key}')\n",
    "    if response.status_code == 200:\n",
    "        json = response.json()\n",
    "        temp_max = json['main']['temp_max']\n",
    "        humidity = json['main']['humidity']\n",
    "        wind_speed = json['wind']['speed']\n",
    "        cloudiness = json['clouds']['all']\n",
    "        latitude = json['coord']['lat']\n",
    "        longitude = json['coord']['lon']\n",
    "        country = json['sys'].get('country', 'N/A')\n",
    "        dt = json['dt']\n",
    "        weather_results.append({ 'city': city, 'cloudiness': cloudiness, 'country': country, 'date': dt, 'humidity': humidity, 'lat': latitude, 'lng': longitude, 'max_temp': temp_max, 'max_speed': wind_speed})\n",
    "    else:\n",
    "        print('City not found. Skipping...')\n",
    "\n",
    "print('-----------------------------')\n",
    "print('Data Retrieval Complete')     \n",
    "print('-----------------------------')\n",
    "                            "
   ]
  },
  {
   "cell_type": "code",
   "execution_count": 4,
   "metadata": {},
   "outputs": [],
   "source": [
    "with open(output_data_file, 'w', newline='') as csvfile:\n",
    "    csvwriter = csv.writer(csvfile, delimiter=',')\n",
    "\n",
    "    # Write the first row (column headers)\n",
    "    csvwriter.writerow(['City', 'Cloudiness', 'Country', 'Date', 'Humidity', 'Lat', 'Lng', 'Max Temp', 'Wind Speed'])\n",
    "\n",
    "    # Write the second row\n",
    "    for weather_dictionary in weather_results:\n",
    "        csvwriter.writerow([weather_dictionary['city'], weather_dictionary['cloudiness'], weather_dictionary['country'], weather_dictionary['date'], weather_dictionary['humidity'], weather_dictionary['lat'], weather_dictionary['lng'], weather_dictionary['max_temp'], weather_dictionary['max_speed']])\n"
   ]
  },
  {
   "cell_type": "code",
   "execution_count": 6,
   "metadata": {},
   "outputs": [
    {
     "data": {
      "text/html": [
       "<div>\n",
       "<style scoped>\n",
       "    .dataframe tbody tr th:only-of-type {\n",
       "        vertical-align: middle;\n",
       "    }\n",
       "\n",
       "    .dataframe tbody tr th {\n",
       "        vertical-align: top;\n",
       "    }\n",
       "\n",
       "    .dataframe thead th {\n",
       "        text-align: right;\n",
       "    }\n",
       "</style>\n",
       "<table border=\"1\" class=\"dataframe\">\n",
       "  <thead>\n",
       "    <tr style=\"text-align: right;\">\n",
       "      <th></th>\n",
       "      <th>city</th>\n",
       "      <th>cloudiness</th>\n",
       "      <th>country</th>\n",
       "      <th>date</th>\n",
       "      <th>humidity</th>\n",
       "      <th>lat</th>\n",
       "      <th>lng</th>\n",
       "      <th>max_speed</th>\n",
       "      <th>max_temp</th>\n",
       "    </tr>\n",
       "  </thead>\n",
       "  <tbody>\n",
       "    <tr>\n",
       "      <th>0</th>\n",
       "      <td>tumannyy</td>\n",
       "      <td>49</td>\n",
       "      <td>N/A</td>\n",
       "      <td>1570476251</td>\n",
       "      <td>83</td>\n",
       "      <td>78.31</td>\n",
       "      <td>36.85</td>\n",
       "      <td>19.93</td>\n",
       "      <td>33.17</td>\n",
       "    </tr>\n",
       "    <tr>\n",
       "      <th>1</th>\n",
       "      <td>tasiilaq</td>\n",
       "      <td>65</td>\n",
       "      <td>N/A</td>\n",
       "      <td>1570476253</td>\n",
       "      <td>96</td>\n",
       "      <td>76.50</td>\n",
       "      <td>-38.80</td>\n",
       "      <td>9.17</td>\n",
       "      <td>-4.09</td>\n",
       "    </tr>\n",
       "    <tr>\n",
       "      <th>2</th>\n",
       "      <td>dovers</td>\n",
       "      <td>75</td>\n",
       "      <td>VC</td>\n",
       "      <td>1570476256</td>\n",
       "      <td>94</td>\n",
       "      <td>12.79</td>\n",
       "      <td>-60.67</td>\n",
       "      <td>5.82</td>\n",
       "      <td>78.80</td>\n",
       "    </tr>\n",
       "    <tr>\n",
       "      <th>3</th>\n",
       "      <td>leningradskiy</td>\n",
       "      <td>99</td>\n",
       "      <td>N/A</td>\n",
       "      <td>1570476258</td>\n",
       "      <td>94</td>\n",
       "      <td>68.14</td>\n",
       "      <td>175.63</td>\n",
       "      <td>7.78</td>\n",
       "      <td>17.15</td>\n",
       "    </tr>\n",
       "    <tr>\n",
       "      <th>4</th>\n",
       "      <td>ushuaia</td>\n",
       "      <td>100</td>\n",
       "      <td>N/A</td>\n",
       "      <td>1570476260</td>\n",
       "      <td>95</td>\n",
       "      <td>-74.89</td>\n",
       "      <td>-60.34</td>\n",
       "      <td>8.52</td>\n",
       "      <td>-2.11</td>\n",
       "    </tr>\n",
       "  </tbody>\n",
       "</table>\n",
       "</div>"
      ],
      "text/plain": [
       "            city  cloudiness country        date  humidity    lat     lng  \\\n",
       "0       tumannyy          49     N/A  1570476251        83  78.31   36.85   \n",
       "1       tasiilaq          65     N/A  1570476253        96  76.50  -38.80   \n",
       "2         dovers          75      VC  1570476256        94  12.79  -60.67   \n",
       "3  leningradskiy          99     N/A  1570476258        94  68.14  175.63   \n",
       "4        ushuaia         100     N/A  1570476260        95 -74.89  -60.34   \n",
       "\n",
       "   max_speed  max_temp  \n",
       "0      19.93     33.17  \n",
       "1       9.17     -4.09  \n",
       "2       5.82     78.80  \n",
       "3       7.78     17.15  \n",
       "4       8.52     -2.11  "
      ]
     },
     "execution_count": 6,
     "metadata": {},
     "output_type": "execute_result"
    }
   ],
   "source": [
    "weather_df = pd.DataFrame(weather_results)\n",
    "weather_df.head()"
   ]
  },
  {
   "cell_type": "code",
   "execution_count": null,
   "metadata": {},
   "outputs": [],
   "source": []
  }
 ],
 "metadata": {
  "kernelspec": {
   "display_name": "Python 3",
   "language": "python",
   "name": "python3"
  },
  "language_info": {
   "codemirror_mode": {
    "name": "ipython",
    "version": 3
   },
   "file_extension": ".py",
   "mimetype": "text/x-python",
   "name": "python",
   "nbconvert_exporter": "python",
   "pygments_lexer": "ipython3",
   "version": "3.7.1"
  }
 },
 "nbformat": 4,
 "nbformat_minor": 2
}
